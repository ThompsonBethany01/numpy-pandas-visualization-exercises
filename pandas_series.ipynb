{
 "cells": [
  {
   "cell_type": "markdown",
   "metadata": {},
   "source": [
    "# 1. Use pandas to create a Series from the following data:"
   ]
  },
  {
   "cell_type": "markdown",
   "metadata": {},
   "source": [
    "- a. Name the variable that holds the series fruits.\n",
    "\n",
    "- b. Run .describe() on the series to see what describe returns for a series of strings.\n",
    "\n",
    "- c. Run the code necessary to produce only the unique fruit names.\n",
    "\n",
    "- d. Determine how many times each value occurs in the series.\n",
    "\n",
    "- e. Determine the most frequently occurring fruit name from the series.\n",
    "\n",
    "- f. Determine the least frequently occurring fruit name from the series.\n",
    "\n",
    "- g. Write the code to get the longest string from the fruits series.\n",
    "\n",
    "- h. Find the fruit(s) with 5 or more letters in the name.\n",
    "\n",
    "- i. Capitalize all the fruit strings in the series.\n",
    "\n",
    "- j. Count the letter \"a\" in all the fruits (use string vectorization)\n",
    "\n",
    "- k. Output the number of vowels in each and every fruit.\n",
    "\n",
    "- l. Use the .apply method and a lambda function to find the fruit(s) containing two or more \"o\" letters in the name.\n",
    "\n",
    "- m. Write the code to get only the fruits containing \"berry\" in the name\n",
    "\n",
    "- n. Write the code to get only the fruits containing \"apple\" in the name\n",
    "\n",
    "- o. Which fruit has the highest amount of vowels?"
   ]
  },
  {
   "cell_type": "code",
   "execution_count": 140,
   "metadata": {},
   "outputs": [],
   "source": [
    "#import pands to use series\n",
    "import pandas as pd\n",
    "\n",
    "#create a series using name = pd.Series()\n",
    "fruits = pd.Series([\"kiwi\", \"mango\", \"strawberry\", \"pineapple\", \"gala apple\", \"honeycrisp apple\", \"tomato\", \"watermelon\", \"honeydew\", \"kiwi\", \"kiwi\", \"kiwi\", \"mango\", \"blueberry\", \"blackberry\", \"gooseberry\", \"papaya\"])\n",
    "#fruits = pd.Series([\"kiwi\", \"mango\", \"mango\", \"mango\",\"strawberry\", \"pineapple\", \"gala apple\", \"gala apple\", \"gala apple\", \"gala apple\",\"honeycrisp apple\", \"tomato\", \"watermelon\", \"honeydew\", \"kiwi\", \"kiwi\", \"kiwi\", \"mango\", \"blueberry\", \"blackberry\", \"gooseberry\", \"papaya\"])"
   ]
  },
  {
   "cell_type": "code",
   "execution_count": 10,
   "metadata": {},
   "outputs": [
    {
     "data": {
      "text/plain": [
       "count       17\n",
       "unique      13\n",
       "top       kiwi\n",
       "freq         4\n",
       "dtype: object"
      ]
     },
     "execution_count": 10,
     "metadata": {},
     "output_type": "execute_result"
    }
   ],
   "source": [
    "#dataFrame.describe()\n",
    "#Descriptive statistics include those that summarize the central tendency, dispersion and shape of a dataset’s distribution\n",
    "#excluding NaN values.\n",
    "fruits.describe()"
   ]
  },
  {
   "cell_type": "code",
   "execution_count": 58,
   "metadata": {},
   "outputs": [
    {
     "data": {
      "text/plain": [
       "array(['kiwi', 'mango', 'strawberry', 'pineapple', 'gala apple',\n",
       "       'honeycrisp apple', 'tomato', 'watermelon', 'honeydew',\n",
       "       'blueberry', 'blackberry', 'gooseberry', 'papaya'], dtype=object)"
      ]
     },
     "execution_count": 58,
     "metadata": {},
     "output_type": "execute_result"
    }
   ],
   "source": [
    "#unique function returns the unique values as a NumPy array\n",
    "fruits.unique()"
   ]
  },
  {
   "cell_type": "code",
   "execution_count": 61,
   "metadata": {},
   "outputs": [
    {
     "data": {
      "text/plain": [
       "kiwi                4\n",
       "mango               2\n",
       "gala apple          1\n",
       "tomato              1\n",
       "honeydew            1\n",
       "watermelon          1\n",
       "honeycrisp apple    1\n",
       "strawberry          1\n",
       "pineapple           1\n",
       "blackberry          1\n",
       "blueberry           1\n",
       "gooseberry          1\n",
       "papaya              1\n",
       "dtype: int64"
      ]
     },
     "execution_count": 61,
     "metadata": {},
     "output_type": "execute_result"
    }
   ],
   "source": [
    "#value counts shows count per unique index\n",
    "fruits.value_counts()"
   ]
  },
  {
   "cell_type": "code",
   "execution_count": 73,
   "metadata": {},
   "outputs": [
    {
     "name": "stdout",
     "output_type": "stream",
     "text": [
      "kiwi\n",
      "0    kiwi\n",
      "dtype: object\n"
     ]
    },
    {
     "data": {
      "text/plain": [
       "kiwi    4\n",
       "dtype: int64"
      ]
     },
     "execution_count": 73,
     "metadata": {},
     "output_type": "execute_result"
    }
   ],
   "source": [
    "#value counts shows count per unique index\n",
    "#max shows maximum value of count\n",
    "#idxmax shows the index name for max\n",
    "print(fruits.value_counts().idxmax())\n",
    "\n",
    "#can use mode for most often, prints index value \n",
    "print(fruits.mode())\n",
    "\n",
    "#can also use nlargest function, which includes the count\n",
    "fruits.value_counts().nlargest(1, keep='all')"
   ]
  },
  {
   "cell_type": "code",
   "execution_count": 72,
   "metadata": {},
   "outputs": [
    {
     "data": {
      "text/plain": [
       "gala apple          1\n",
       "tomato              1\n",
       "honeydew            1\n",
       "watermelon          1\n",
       "honeycrisp apple    1\n",
       "strawberry          1\n",
       "pineapple           1\n",
       "blackberry          1\n",
       "blueberry           1\n",
       "gooseberry          1\n",
       "papaya              1\n",
       "dtype: int64"
      ]
     },
     "execution_count": 72,
     "metadata": {},
     "output_type": "execute_result"
    }
   ],
   "source": [
    "#nsmallest can show all smallest value count, if you specify keep = 'all'\n",
    "fruits.value_counts().nsmallest(1, keep = 'all')"
   ]
  },
  {
   "cell_type": "code",
   "execution_count": 80,
   "metadata": {},
   "outputs": [
    {
     "data": {
      "text/plain": [
       "'honeycrisp apple'"
      ]
     },
     "execution_count": 80,
     "metadata": {},
     "output_type": "execute_result"
    }
   ],
   "source": [
    "#result finds the index value of the fruit with the longest string\n",
    "result = fruits.map(len).idxmax()\n",
    "\n",
    "#we print the fruit with that index\n",
    "fruits[result]"
   ]
  },
  {
   "cell_type": "code",
   "execution_count": 126,
   "metadata": {},
   "outputs": [
    {
     "name": "stdout",
     "output_type": "stream",
     "text": [
      "2           strawberry\n",
      "3            pineapple\n",
      "4           gala apple\n",
      "5     honeycrisp apple\n",
      "6               tomato\n",
      "7           watermelon\n",
      "8             honeydew\n",
      "13           blueberry\n",
      "14          blackberry\n",
      "15          gooseberry\n",
      "16              papaya\n",
      "dtype: object\n"
     ]
    }
   ],
   "source": [
    "#the conditional inside the array checks if the string length is greater than 5\n",
    "print(fruits[(fruits.str.len()) > 5])"
   ]
  },
  {
   "cell_type": "code",
   "execution_count": 104,
   "metadata": {},
   "outputs": [
    {
     "data": {
      "text/plain": [
       "0                 Kiwi\n",
       "1                Mango\n",
       "2           Strawberry\n",
       "3            Pineapple\n",
       "4           Gala apple\n",
       "5     Honeycrisp apple\n",
       "6               Tomato\n",
       "7           Watermelon\n",
       "8             Honeydew\n",
       "9                 Kiwi\n",
       "10                Kiwi\n",
       "11                Kiwi\n",
       "12               Mango\n",
       "13           Blueberry\n",
       "14          Blackberry\n",
       "15          Gooseberry\n",
       "16              Papaya\n",
       "dtype: object"
      ]
     },
     "execution_count": 104,
     "metadata": {},
     "output_type": "execute_result"
    }
   ],
   "source": [
    "#seriesname.str.capitalie() capitalizes each value in the series\n",
    "#only works with strings and you need .str\n",
    "fruits.str.capitalize()"
   ]
  },
  {
   "cell_type": "code",
   "execution_count": 183,
   "metadata": {},
   "outputs": [
    {
     "name": "stdout",
     "output_type": "stream",
     "text": [
      "The total amount of a's in the series is: 17\n"
     ]
    },
    {
     "data": {
      "text/plain": [
       "0     0\n",
       "1     1\n",
       "2     1\n",
       "3     1\n",
       "4     3\n",
       "5     1\n",
       "6     1\n",
       "7     1\n",
       "8     0\n",
       "9     0\n",
       "10    0\n",
       "11    0\n",
       "12    1\n",
       "13    0\n",
       "14    1\n",
       "15    0\n",
       "16    3\n",
       "dtype: int64"
      ]
     },
     "execution_count": 183,
     "metadata": {},
     "output_type": "execute_result"
    }
   ],
   "source": [
    "#function that counts a's within a string\n",
    "def count_as(string):\n",
    "    count = 0\n",
    "    vowels = set(\"aA\")\n",
    "    for ch in string:\n",
    "        if ch in vowels:\n",
    "            count = count + 1\n",
    "    return count\n",
    "\n",
    "#apply applies the function to the series string by string\n",
    "#we take the count of this to find how many a's in the series as a whole\n",
    "print('''The total amount of a's in the series is: ''' + str(fruits.apply(count_as).count()))\n",
    "fruits.apply(count_as)\n",
    "\n",
    "#another option is to str count a\n",
    "fruits.str.count('a')"
   ]
  },
  {
   "cell_type": "code",
   "execution_count": 171,
   "metadata": {},
   "outputs": [
    {
     "data": {
      "text/plain": [
       "0     2\n",
       "1     2\n",
       "2     2\n",
       "3     4\n",
       "4     4\n",
       "5     5\n",
       "6     3\n",
       "7     4\n",
       "8     3\n",
       "9     2\n",
       "10    2\n",
       "11    2\n",
       "12    2\n",
       "13    3\n",
       "14    2\n",
       "15    4\n",
       "16    3\n",
       "dtype: int64"
      ]
     },
     "execution_count": 171,
     "metadata": {},
     "output_type": "execute_result"
    }
   ],
   "source": [
    "#defines a function that counts the vowels in a string\n",
    "def count_vowels(string):\n",
    "    count = 0\n",
    "    vowels = set(\"aeiouAEIOU\")\n",
    "    for ch in string:\n",
    "        if ch in vowels:\n",
    "            count = count + 1\n",
    "    return count\n",
    "\n",
    "#the function is applied to each string in the series\n",
    "fruits.apply(count_vowels)\n",
    "\n",
    "#another option is to string count with the values you're looking for\n",
    "fruits.str.count('[aeiou]')"
   ]
  },
  {
   "cell_type": "code",
   "execution_count": 174,
   "metadata": {},
   "outputs": [
    {
     "data": {
      "text/plain": [
       "6         tomato\n",
       "15    gooseberry\n",
       "dtype: object"
      ]
     },
     "execution_count": 174,
     "metadata": {},
     "output_type": "execute_result"
    }
   ],
   "source": [
    "#the lambda function retruns True if there are 2 or more o's in each string in the series\n",
    "#we use the lambda function with apply to use it on the series\n",
    "#encasing in fruits[] shows us each value that returns true\n",
    "fruits[fruits.apply(lambda n: True if n.count('o') >= 2 else False)]"
   ]
  },
  {
   "cell_type": "code",
   "execution_count": 176,
   "metadata": {},
   "outputs": [
    {
     "data": {
      "text/plain": [
       "2     strawberry\n",
       "13     blueberry\n",
       "14    blackberry\n",
       "15    gooseberry\n",
       "dtype: object"
      ]
     },
     "execution_count": 176,
     "metadata": {},
     "output_type": "execute_result"
    }
   ],
   "source": [
    "#the lambda function retruns True if there is 'berry' in each string in the series\n",
    "#we use the lambda function with apply to use it on the series\n",
    "#encasing in fruits[] shows us each value that returns true\n",
    "fruits[fruits.apply(lambda n: True if n.count('berry') == 1 else False)]"
   ]
  },
  {
   "cell_type": "code",
   "execution_count": 177,
   "metadata": {},
   "outputs": [
    {
     "data": {
      "text/plain": [
       "3           pineapple\n",
       "4          gala apple\n",
       "5    honeycrisp apple\n",
       "dtype: object"
      ]
     },
     "execution_count": 177,
     "metadata": {},
     "output_type": "execute_result"
    }
   ],
   "source": [
    "#the lambda function retruns True if there is 'apple' in each string in the series\n",
    "#we use the lambda function with apply to use it on the series\n",
    "#encasing in fruits[] shows us each value that returns true\n",
    "fruits[fruits.apply(lambda n: True if n.count('apple') == 1 else False)]"
   ]
  },
  {
   "cell_type": "code",
   "execution_count": 184,
   "metadata": {},
   "outputs": [
    {
     "name": "stdout",
     "output_type": "stream",
     "text": [
      "The fruit with the most vowels is \"honeycrisp apple\".\n"
     ]
    }
   ],
   "source": [
    "#we use the count_vowel function from before\n",
    "#we use it on the series with apply\n",
    "#idxmac finds the index of the value with the most vowels\n",
    "index = fruits.apply(count_vowels).idxmax()\n",
    "\n",
    "#we access this value with fruits[index]\n",
    "print('The fruit with the most vowels is \"' + fruits[index] + '\".')"
   ]
  },
  {
   "cell_type": "markdown",
   "metadata": {},
   "source": [
    "# 2. Use pandas to create a Series from the following data:"
   ]
  },
  {
   "cell_type": "markdown",
   "metadata": {},
   "source": [
    "- a. What is the data type of the series?\n",
    "- b. Use series operations to convert the series to a numeric data type.\n",
    "- c. What is the maximum value? The minimum?\n",
    "- d. Bin the data into 4 equally sized intervals and show how many values fall into each bin.\n",
    "- e. Plot a histogram of the data. Be sure to include a title and axis labels."
   ]
  },
  {
   "cell_type": "code",
   "execution_count": 200,
   "metadata": {},
   "outputs": [],
   "source": [
    "cash_flow = pd.Series(['$796,459.41', '$278.60', '$482,571.67', '$4,503,915.98', '$2,121,418.3', '$1,260,813.3', '$87,231.01', '$1,509,175.45', '$4,138,548.00', '$2,848,913.80', '$594,715.39', '$4,789,988.17', '$4,513,644.5', '$3,191,059.97', '$1,758,712.24', '$4,338,283.54', '$4,738,303.38', '$2,791,759.67', '$769,681.94', '$452,650.23'])"
   ]
  },
  {
   "cell_type": "code",
   "execution_count": 187,
   "metadata": {},
   "outputs": [
    {
     "data": {
      "text/plain": [
       "pandas.core.series.Series"
      ]
     },
     "execution_count": 187,
     "metadata": {},
     "output_type": "execute_result"
    }
   ],
   "source": [
    "type(cash_flow)"
   ]
  },
  {
   "cell_type": "code",
   "execution_count": 201,
   "metadata": {},
   "outputs": [],
   "source": [
    "cash_flow = cash_flow.apply(lambda x: x.replace('$','')).apply(lambda x: x.replace(',','')).astype('float')"
   ]
  },
  {
   "cell_type": "code",
   "execution_count": 202,
   "metadata": {},
   "outputs": [
    {
     "data": {
      "text/plain": [
       "0      796459.41\n",
       "1         278.60\n",
       "2      482571.67\n",
       "3     4503915.98\n",
       "4     2121418.30\n",
       "5     1260813.30\n",
       "6       87231.01\n",
       "7     1509175.45\n",
       "8     4138548.00\n",
       "9     2848913.80\n",
       "10     594715.39\n",
       "11    4789988.17\n",
       "12    4513644.50\n",
       "13    3191059.97\n",
       "14    1758712.24\n",
       "15    4338283.54\n",
       "16    4738303.38\n",
       "17    2791759.67\n",
       "18     769681.94\n",
       "19     452650.23\n",
       "dtype: float64"
      ]
     },
     "execution_count": 202,
     "metadata": {},
     "output_type": "execute_result"
    }
   ],
   "source": [
    "cash_flow"
   ]
  },
  {
   "cell_type": "code",
   "execution_count": 204,
   "metadata": {},
   "outputs": [
    {
     "name": "stdout",
     "output_type": "stream",
     "text": [
      "4789988.17\n",
      "278.6\n"
     ]
    }
   ],
   "source": [
    "print(cash_flow.max())\n",
    "print(cash_flow.min())"
   ]
  },
  {
   "cell_type": "code",
   "execution_count": 217,
   "metadata": {},
   "outputs": [
    {
     "data": {
      "text/plain": [
       "(-4511.11, 1197705.993]       7\n",
       "(3592560.778, 4789988.17]     6\n",
       "(1197705.993, 2395133.385]    4\n",
       "(2395133.385, 3592560.778]    3\n",
       "dtype: int64"
      ]
     },
     "execution_count": 217,
     "metadata": {},
     "output_type": "execute_result"
    }
   ],
   "source": [
    "pd.cut(cash_flow, 4).value_counts()"
   ]
  },
  {
   "cell_type": "code",
   "execution_count": 234,
   "metadata": {},
   "outputs": [
    {
     "data": {
      "image/png": "[encoded data removed]",
      "text/plain": [
       "<Figure size 432x288 with 1 Axes>"
      ]
     },
     "metadata": {
      "needs_background": "light"
     },
     "output_type": "display_data"
    }
   ],
   "source": [
    "import matplotlib.pyplot as plt\n",
    "plt.hist(cash_flow)\n",
    "plt.title('Distribution of Cost')\n",
    "plt.xlabel('Cost $')\n",
    "plt.ylabel('Total in Range')\n",
    "plt.show()"
   ]
  },
  {
   "cell_type": "markdown",
   "metadata": {},
   "source": [
    "# 3. Use pandas to create a Series from the following data:"
   ]
  },
  {
   "cell_type": "markdown",
   "metadata": {},
   "source": [
    "- a. What is the minimum exam score? The max, mean, median?\n",
    "- b. Plot a histogram of the scores.\n",
    "- c. Convert each of the numbers above into a letter grade. For example, 86 should be a 'B' and 95 should be an 'A'.\n",
    "- d. Write the code necessary to implement a curve. I.e. that grade closest to 100 should be converted to a 100, and that many points should be given to every other score as well."
   ]
  },
  {
   "cell_type": "code",
   "execution_count": 219,
   "metadata": {},
   "outputs": [],
   "source": [
    "grades = pd.Series([60, 86, 75, 62, 93, 71, 60, 83, 95, 78, 65, 72, 69, 81, 96, 80, 85, 92, 82, 78])"
   ]
  },
  {
   "cell_type": "code",
   "execution_count": 224,
   "metadata": {},
   "outputs": [
    {
     "data": {
      "text/plain": [
       "79.0"
      ]
     },
     "execution_count": 224,
     "metadata": {},
     "output_type": "execute_result"
    }
   ],
   "source": [
    "grades.min()\n",
    "grades.max()\n",
    "grades.mean()\n",
    "grades.median()"
   ]
  },
  {
   "cell_type": "code",
   "execution_count": 225,
   "metadata": {},
   "outputs": [
    {
     "data": {
      "image/png": "[encoded data removed]",
      "text/plain": [
       "<Figure size 432x288 with 1 Axes>"
      ]
     },
     "metadata": {
      "needs_background": "light"
     },
     "output_type": "display_data"
    }
   ],
   "source": [
    "plt.hist(grades)\n",
    "plt.show()"
   ]
  },
  {
   "cell_type": "markdown",
   "metadata": {},
   "source": [
    "# 4. Use pandas to create a Series from the following data:"
   ]
  },
  {
   "cell_type": "markdown",
   "metadata": {},
   "source": [
    "- a. What is the most frequently occuring letter? Least frequently occuring?\n",
    "- b. How many vowels are in the list?\n",
    "- c. How many consonants are in the list?\n",
    "- d. Create a series that has all of the same letters, but uppercased\n",
    "- e. Create a bar plot of the frequencies of the 6 most frequently occuring letters."
   ]
  },
  {
   "cell_type": "code",
   "execution_count": null,
   "metadata": {},
   "outputs": [],
   "source": [
    "'hnvidduckkqxwymbimkccexbkmqygkxoyndmcxnwqarhyffsjpsrabtjzsypmzadfavyrnndndvswreauxovncxtwzpwejilzjrmmbbgbyxvjtewqthafnbkqplarokkyydtubbmnexoypulzwfhqvckdpqtpoppzqrmcvhhpwgjwupgzhiofohawytlsiyecuproguy'"
   ]
  }
 ],
 "metadata": {
  "kernelspec": {
   "display_name": "Python 3",
   "language": "python",
   "name": "python3"
  },
  "language_info": {
   "codemirror_mode": {
    "name": "ipython",
    "version": 3
   },
   "file_extension": ".py",
   "mimetype": "text/x-python",
   "name": "python",
   "nbconvert_exporter": "python",
   "pygments_lexer": "ipython3",
   "version": "3.7.6"
  }
 },
 "nbformat": 4,
 "nbformat_minor": 4
}
